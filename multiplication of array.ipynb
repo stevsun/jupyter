{
 "cells": [
  {
   "cell_type": "code",
   "execution_count": 6,
   "metadata": {},
   "outputs": [
    {
     "name": "stdout",
     "output_type": "stream",
     "text": [
      "input_list =  [5, 6, 7, 8]\n",
      "result_list= [1, 1, 1, 1]\n",
      "[336, 280, 240, 210]\n"
     ]
    }
   ],
   "source": [
    "if __name__ == \"__main__\":\n",
    "    input_list = [5,6,7,8]\n",
    "    #input_list = argv[1].split(',')\n",
    "    print(\"input_list = \", input_list)\n",
    "    length = len(input_list)\n",
    "    result_list = [1]*length\n",
    "    print(\"result_list=\", result_list)\n",
    "    \n",
    "    idx1 = 0\n",
    "    while idx1 < length:\n",
    "        idx2 = 0\n",
    "        while idx2 < length:\n",
    "            if idx2 == idx1:\n",
    "                idx2 += 1\n",
    "                continue\n",
    "            elif result_list[idx2] == 0:\n",
    "                result_list[idx2] *= input_list[idx1]\n",
    "            else:\n",
    "                result_list[idx2] *= input_list[idx1]\n",
    "            \n",
    "            idx2 += 1\n",
    "        \n",
    "        idx1 += 1\n",
    "    \n",
    "    print(result_list)\n",
    "            "
   ]
  },
  {
   "cell_type": "code",
   "execution_count": 8,
   "metadata": {},
   "outputs": [
    {
     "name": "stdout",
     "output_type": "stream",
     "text": [
      "[192, 96, 64, 48]\n"
     ]
    }
   ],
   "source": [
    "input_array=[2,4,6,8]\n",
    "length = len(input_array)\n",
    "\n",
    "output_array = [1] * length\n",
    "\n",
    "idx1 = 0\n",
    "\n",
    "while idx1 < length:\n",
    "    idx2 = 0\n",
    "    while idx2 < length:\n",
    "        if idx2 != idx1:\n",
    "            output_array[idx2] *= input_array[idx1]\n",
    "        idx2 += 1\n",
    "        continue\n",
    "    \n",
    "    idx1 += 1\n",
    "\n",
    "print(output_array)"
   ]
  },
  {
   "cell_type": "code",
   "execution_count": 16,
   "metadata": {},
   "outputs": [
    {
     "name": "stdout",
     "output_type": "stream",
     "text": [
      "[1, 1, 2, 6, 24]\n",
      "[120, 60, 20, 5, 1]\n",
      "[120, 60, 40, 30, 24]\n"
     ]
    }
   ],
   "source": [
    "input=[1,2,3,4,5]\n",
    "length=len(input)\n",
    "temp1= [1]*length\n",
    "temp2 = [1]*length\n",
    "result = [1]*length\n",
    "\n",
    "idx1 = 1\n",
    "\n",
    "# build array with values [1, input1, input1*input2, ...]\n",
    "while idx1 < length:\n",
    "    temp1[idx1] = temp1[idx1-1]*input[idx1-1]\n",
    "    idx1 += 1\n",
    "    \n",
    "print(temp1)\n",
    "\n",
    "idx1=length - 2\n",
    "while idx1 >=0:\n",
    "    temp2[idx1] = temp2[idx1+1] * input[idx1+1]\n",
    "    idx1 -= 1\n",
    " \n",
    "print (temp2)\n",
    "\n",
    "idx1=0\n",
    "while idx1 < length:\n",
    "    result[idx1] = temp1[idx1] * temp2[idx1]\n",
    "    idx1 += 1\n",
    "    \n",
    "print(result)"
   ]
  },
  {
   "cell_type": "code",
   "execution_count": null,
   "metadata": {},
   "outputs": [],
   "source": []
  }
 ],
 "metadata": {
  "kernelspec": {
   "display_name": "Python 3",
   "language": "python",
   "name": "python3"
  },
  "language_info": {
   "codemirror_mode": {
    "name": "ipython",
    "version": 3
   },
   "file_extension": ".py",
   "mimetype": "text/x-python",
   "name": "python",
   "nbconvert_exporter": "python",
   "pygments_lexer": "ipython3",
   "version": "3.6.4"
  }
 },
 "nbformat": 4,
 "nbformat_minor": 2
}
