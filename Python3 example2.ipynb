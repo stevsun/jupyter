{
 "cells": [
  {
   "cell_type": "code",
   "execution_count": 1,
   "metadata": {},
   "outputs": [
    {
     "name": "stdout",
     "output_type": "stream",
     "text": [
      "Initiating a Song instance\n",
      "Initiating a Song instance\n",
      "Happy birthday to you\n",
      "Happy birthday2 you\n",
      "Happy BDay 2 you\n",
      "twinkle twinkle little star\n",
      "how I wonder what you are\n"
     ]
    }
   ],
   "source": [
    "class Song(object):\n",
    "    def __init__(self, lyrics):\n",
    "        print(\"Initiating a Song instance\")\n",
    "        self.lyrics = lyrics\n",
    "        \n",
    "    def sing(self):\n",
    "        for each_line in self.lyrics:\n",
    "            print(each_line)\n",
    "            \n",
    "            \n",
    "happybday = Song([\"Happy birthday to you\", \"Happy birthday2 you\", \"Happy BDay 2 you\"])\n",
    "ttlstar = Song([\"twinkle twinkle little star\", \"how I wonder what you are\"])\n",
    "\n",
    "happybday.sing()\n",
    "ttlstar.sing()"
   ]
  },
  {
   "cell_type": "code",
   "execution_count": null,
   "metadata": {},
   "outputs": [
    {
     "name": "stdout",
     "output_type": "stream",
     "text": [
      "[b'account\\n', b'achiever\\n', b'actor\\n', b'addition\\n', b'adjustment\\n', b'advertisement\\n', b'advice\\n', b'aftermath\\n', b'agreement\\n', b'airplane\\n', b'airport\\n', b'alarm\\n', b'amount\\n', b'amusement\\n', b'angle\\n', b'animal\\n', b'answer\\n', b'ant\\n', b'apparatus\\n', b'apparel\\n', b'apple\\n', b'appliance\\n', b'approval\\n', b'arch\\n', b'argument\\n', b'arithmetic\\n', b'arm\\n', b'army\\n', b'art\\n', b'attack\\n', b'attempt\\n', b'attention\\n', b'attraction\\n', b'aunt\\n', b'authority\\n', b'baby\\n', b'back\\n', b'badge\\n', b'bag\\n', b'bait\\n', b'balance\\n', b'ball\\n', b'balloon\\n', b'banana\\n', b'band\\n', b'base\\n', b'baseball\\n', b'basket\\n', b'basketball\\n', b'bat\\n', b'bath\\n', b'battle\\n', b'bead\\n', b'beam\\n', b'bean\\n', b'bear\\n', b'beast\\n', b'bed\\n', b'bedroom\\n', b'bee\\n', b'beef\\n', b'beetle\\n', b'beggar\\n', b'beginner\\n', b'behavior\\n', b'belief\\n', b'believe\\n', b'bell\\n', b'berry\\n', b'bike\\n', b'bird\\n', b'birth\\n', b'birthday\\n', b'bit\\n', b'bite\\n', b'blade\\n', b'blood\\n', b'blow\\n', b'board\\n', b'boat\\n', b'body\\n', b'bomb\\n', b'bone\\n', b'book\\n', b'boot\\n', b'border\\n', b'bottle\\n', b'boundary\\n', b'box\\n', b'boy\\n', b'brain\\n', b'brake\\n', b'branch\\n', b'brass\\n', b'bread\\n', b'breakfast\\n', b'breath\\n', b'brick\\n', b'bridge\\n', b'brother\\n', b'brush\\n', b'bubble\\n', b'bucket\\n', b'building\\n', b'bulb\\n', b'bun\\n', b'burn\\n', b'burst\\n', b'business\\n', b'butto\\n', b'cabbage\\n', b'cable\\n', b'cactus\\n', b'cake\\n', b'cakes\\n', b'calculator\\n', b'calendar\\n', b'camera\\n', b'camp\\n', b'can\\n', b'cannon\\n', b'canvas\\n', b'cap\\n', b'caption\\n', b'car\\n', b'card\\n', b'carpenter\\n', b'carriage\\n', b'cart\\n', b'cast\\n', b'cat\\n', b'cattle\\n', b'cause\\n', b'cave\\n', b'celery\\n', b'cellar\\n', b'cemetery\\n', b'cent\\n', b'chain\\n', b'chair\\n', b'chalk\\n', b'chance\\n', b'change\\n', b'channel\\n', b'cheese\\n', b'cherry\\n', b'chess\\n', b'chicken\\n', b'children\\n', b'chin\\n', b'church\\n', b'circle\\n', b'clam\\n', b'clock\\n', b'cloth\\n', b'cloud\\n', b'clover\\n', b'club\\n', b'coach\\n', b'coal\\n', b'coast\\n', b'coat\\n', b'cobweb\\n', b'coil\\n', b'collar\\n', b'color\\n', b'comb\\n', b'comfort\\n', b'committee\\n', b'company\\n', b'competition\\n', b'condition\\n', b'connection\\n', b'control\\n', b'cook\\n', b'copper\\n', b'copy\\n', b'cord\\n', b'cork\\n', b'corn\\n', b'cough\\n', b'country\\n', b'cover\\n', b'cow\\n', b'crack\\n', b'cracker\\n', b'crate\\n', b'crayon\\n', b'cream\\n', b'creator\\n', b'creature\\n', b'credit\\n', b'crib\\n', b'crime\\n', b'crook\\n', b'crow\\n', b'crowd\\n', b'crown\\n', b'crush\\n', b'cry\\n', b'cub\\n', b'cup\\n', b'current\\n', b'curtain\\n', b'curve\\n', b'cushion\\n', b'dad\\n', b'daughter\\n', b'day\\n', b'death\\n', b'debt\\n', b'decision\\n', b'deer\\n', b'degree\\n', b'design\\n', b'desire\\n', b'desk\\n', b'destruction\\n', b'detail\\n', b'development\\n', b'digestion\\n', b'dime\\n', b'dinner\\n', b'dinosaurs\\n', b'direction\\n', b'dirt\\n', b'discovery\\n', b'discussion\\n', b'disease\\n', b'disgust\\n', b'distance\\n', b'distribution\\n', b'division\\n', b'dock\\n', b'doctor\\n', b'dog\\n', b'dogs\\n', b'doll\\n', b'donkey\\n', b'door\\n', b'downtown\\n', b'drain\\n', b'drawer\\n', b'dress\\n', b'drink\\n', b'driving\\n', b'drop\\n', b'drug\\n', b'drum\\n', b'duck\\n', b'dust\\n']\n",
      "bit.bee = 'carpenter'\n"
     ]
    }
   ],
   "source": [
    "import random\n",
    "from urllib.request import urlopen\n",
    "import sys\n",
    "\n",
    "WORD_URL = \"http://learncodethehardway.org/words.txt\"\n",
    "WORDS = []\n",
    "\n",
    "PHRASES = {\n",
    "    \"class %%%(%%%):\":\"Make a class named %%% that is-a %%%.\",\n",
    "    \"class %%%(object):\\n\\tdef __init__(self, ***)\":\"class %%% has-a __init__ that takes self and *** params.\",\n",
    "    \"class %%%(object):\\n\\tdef ***(self, @@@)\":\"class %%% has-a function *** that takes self and @@@ params.\",\n",
    "    \"*** = %%%()\":\"Set *** to an instance of class %%%.\",\n",
    "    \"***.***(@@@)\":\"From *** get the *** function, call it with params self, @@@.\",\n",
    "    \"***.*** = '***'\":\"From *** get the *** attribute and set it to '***'.\"\n",
    "}\n",
    "\n",
    "# do they want to drill phrases first\n",
    "if len(sys.argv) == 2 and sys.argv[1] == 'english':\n",
    "    PHRASE_FIRST = True\n",
    "else:\n",
    "    PHRASE_FIRST = False\n",
    "    \n",
    "#load up the words from the website\n",
    "for word in urlopen(WORD_URL).readlines():\n",
    "    WORDS.append(str(word.strip(), encoding = \"utf-8\"))\n",
    "\n",
    "def convert(snippet, phrase):\n",
    "    class_names = [w.capitalize() for w in random.sample(WORDS, snippet.count(\"%%%\"))]\n",
    "    other_names = random.sample(WORDS, snippet.count(\"***\"))\n",
    "    results=[]\n",
    "    param_names=[]\n",
    "    \n",
    "    for i in range(0, snippet.count(\"@@@\")):\n",
    "        param_count = random.randint(1, 3)\n",
    "        param_names.append(', '.join(random.sample(WORDS, param_count)))\n",
    "        \n",
    "    for sentence in snippet, phrase:\n",
    "        result = sentence[:]\n",
    "        \n",
    "        #fake class names\n",
    "        for word in class_names:\n",
    "            result = result.replace(\"%%%\", word, 1)\n",
    "            \n",
    "        for word in other_names:\n",
    "            result = result.replace(\"***\", word, 1)\n",
    "            \n",
    "        for word in param_names:\n",
    "            result = result.replace(\"@@@\", word, 1)\n",
    "            \n",
    "        results.append(result)\n",
    "        \n",
    "    return results\n",
    "\n",
    "#keep going until they hit CTRL-D\n",
    "try:\n",
    "    while True:\n",
    "        snippets = list(PHRASES.keys())\n",
    "        random.shuffle(snippets)\n",
    "        \n",
    "        for snippet in snippets:\n",
    "            phrase = PHRASES[snippet]\n",
    "            question, answer = convert(snippet, phrase)\n",
    "            \n",
    "            print(question)\n",
    "            \n",
    "            input(\"<\")\n",
    "            print(f\"ANSWER: {answer}\\n\\n\")\n",
    "except EOFError:\n",
    "    print(\"\\nBye\")\n"
   ]
  },
  {
   "cell_type": "code",
   "execution_count": null,
   "metadata": {},
   "outputs": [],
   "source": []
  }
 ],
 "metadata": {
  "kernelspec": {
   "display_name": "Python 3",
   "language": "python",
   "name": "python3"
  },
  "language_info": {
   "codemirror_mode": {
    "name": "ipython",
    "version": 3
   },
   "file_extension": ".py",
   "mimetype": "text/x-python",
   "name": "python",
   "nbconvert_exporter": "python",
   "pygments_lexer": "ipython3",
   "version": "3.6.4"
  }
 },
 "nbformat": 4,
 "nbformat_minor": 2
}
