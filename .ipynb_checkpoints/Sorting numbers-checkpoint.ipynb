{
 "cells": [
  {
   "cell_type": "code",
   "execution_count": 1,
   "metadata": {},
   "outputs": [
    {
     "name": "stdout",
     "output_type": "stream",
     "text": [
      "2\n",
      "[0, 5, 9, 5, 7, 0, 3, 3]\n",
      "[0, 0, 9, 5, 7, 5, 3, 3]\n",
      "Done with the sort\n"
     ]
    }
   ],
   "source": [
    "array=[3, 5, 9, 5, 7, 0, 3, 0]\n",
    "\n",
    "idx1 = 0\n",
    "idx2 = len(array)-1\n",
    "zero_count=array.count(0)\n",
    "print(zero_count)\n",
    "\n",
    "while zero_count > 0:\n",
    "    if array[idx1] != 0:\n",
    "        while idx2 >=0:\n",
    "            if array[idx2] == 0:\n",
    "                array[idx2] = array[idx1]\n",
    "                array[idx1] = 0\n",
    "                idx1 += 1\n",
    "                idx2 -= 1\n",
    "                zero_count -= 1\n",
    "                print(array)\n",
    "                break\n",
    "            else:\n",
    "                idx2 -= 1\n",
    "                \n",
    "                continue\n",
    "    else:\n",
    "        idx1 += 1\n",
    "        zero_count -= 1\n",
    "        \n",
    "    continue\n",
    "\n",
    "print (\"Done with the sort\")      \n",
    "    "
   ]
  },
  {
   "cell_type": "code",
   "execution_count": 19,
   "metadata": {},
   "outputs": [
    {
     "name": "stdout",
     "output_type": "stream",
     "text": [
      "End of sorting\n",
      "[0, 0, 2, 5, 1]\n"
     ]
    }
   ],
   "source": [
    "array=[1, 0, 2, 5, 0]\n",
    "\n",
    "idx1=0\n",
    "idx2=len(array) - 1\n",
    "zero_count = array.count(0)\n",
    "\n",
    "while zero_count > 0:\n",
    "    if array[idx1] == 0:\n",
    "        zero_count -= 1\n",
    "        idx1 += 1\n",
    "        continue\n",
    "    else:\n",
    "        while True:\n",
    "            if array[idx2] == 0:\n",
    "                array[idx2] = array[idx1]\n",
    "                array[idx1] = 0\n",
    "                idx1 += 1\n",
    "                idx2 -= 1\n",
    "                zero_count -= 1\n",
    "                break\n",
    "            else:\n",
    "                idx2 -= 1\n",
    "                if idx2 > idx1:\n",
    "                    continue\n",
    "                else:\n",
    "                    break\n",
    "\n",
    "print(\"End of sorting\")\n",
    "print (array)"
   ]
  },
  {
   "cell_type": "code",
   "execution_count": null,
   "metadata": {},
   "outputs": [],
   "source": []
  }
 ],
 "metadata": {
  "kernelspec": {
   "display_name": "Python 3",
   "language": "python",
   "name": "python3"
  },
  "language_info": {
   "codemirror_mode": {
    "name": "ipython",
    "version": 3
   },
   "file_extension": ".py",
   "mimetype": "text/x-python",
   "name": "python",
   "nbconvert_exporter": "python",
   "pygments_lexer": "ipython3",
   "version": "3.6.4"
  }
 },
 "nbformat": 4,
 "nbformat_minor": 2
}
