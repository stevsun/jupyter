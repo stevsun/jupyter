{
 "cells": [
  {
   "cell_type": "code",
   "execution_count": 8,
   "metadata": {},
   "outputs": [
    {
     "name": "stdout",
     "output_type": "stream",
     "text": [
      "80658175170943878571660636856403766975289505440883277824000000000000\n",
      "8.065817517094388e+67\n"
     ]
    }
   ],
   "source": [
    "rval = 1\n",
    "for idx in range(1,53):\n",
    "    rval *= idx\n",
    "    \n",
    "print (rval)\n",
    "\n",
    "fval = float(rval)\n",
    "print(fval)"
   ]
  },
  {
   "cell_type": "code",
   "execution_count": 10,
   "metadata": {},
   "outputs": [
    {
     "name": "stdout",
     "output_type": "stream",
     "text": [
      "80658175170943878571660636856403766975289505440883277824000000000000\n",
      "68\n"
     ]
    }
   ],
   "source": [
    "import math\n",
    "\n",
    "rval = math.factorial(52)\n",
    "print(rval)\n",
    "\n",
    "vstr = str(rval)\n",
    "print (len(vstr))"
   ]
  },
  {
   "cell_type": "code",
   "execution_count": 11,
   "metadata": {},
   "outputs": [
    {
     "name": "stdout",
     "output_type": "stream",
     "text": [
      "617\n"
     ]
    }
   ],
   "source": [
    "print(len(str(2**2048)))"
   ]
  },
  {
   "cell_type": "code",
   "execution_count": 18,
   "metadata": {},
   "outputs": [
    {
     "name": "stdout",
     "output_type": "stream",
     "text": [
      "0x7\n"
     ]
    }
   ],
   "source": [
    "xor_val = 0b1101 ^ 0b1010\n",
    "print(hex(xor_val))"
   ]
  },
  {
   "cell_type": "code",
   "execution_count": null,
   "metadata": {},
   "outputs": [],
   "source": []
  }
 ],
 "metadata": {
  "kernelspec": {
   "display_name": "Python 3",
   "language": "python",
   "name": "python3"
  },
  "language_info": {
   "codemirror_mode": {
    "name": "ipython",
    "version": 3
   },
   "file_extension": ".py",
   "mimetype": "text/x-python",
   "name": "python",
   "nbconvert_exporter": "python",
   "pygments_lexer": "ipython3",
   "version": "3.6.4"
  }
 },
 "nbformat": 4,
 "nbformat_minor": 2
}
