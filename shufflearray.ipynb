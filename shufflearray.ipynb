{
 "cells": [
  {
   "cell_type": "code",
   "execution_count": 35,
   "metadata": {},
   "outputs": [
    {
     "name": "stdout",
     "output_type": "stream",
     "text": [
      "['a', 1, 'b', 2, 'c', 3, 'd', 4, 'e']\n"
     ]
    }
   ],
   "source": [
    "from sys import argv\n",
    "\n",
    "def interleaveArray(array):\n",
    "    #set index1 to first I position\n",
    "    index1 = 1\n",
    "    index2=0\n",
    "    size = len(array)\n",
    "    \n",
    "    while True:\n",
    "        #set index2 to first C position\n",
    "            if type(array[index2]) is int:\n",
    "                break\n",
    "            else:\n",
    "                index2 += 1\n",
    "                continue\n",
    "\n",
    "    while index1 < size-1:\n",
    "        array.insert(index1, array[index2])\n",
    "        index2+=1\n",
    "        array.pop(index2)\n",
    "        index1+=2\n",
    "\n",
    "    return\n",
    "\n",
    "if __name__ == \"__main__\":\n",
    "    array = ['a','b','c','d','e',1,2,3,4]\n",
    "    #array = ['a','z',3,4]\n",
    "    interleaveArray(array)\n",
    "    print(array)"
   ]
  },
  {
   "cell_type": "code",
   "execution_count": 33,
   "metadata": {},
   "outputs": [
    {
     "name": "stdout",
     "output_type": "stream",
     "text": [
      "argv[1]= ['a', 'b', 2, 1]\n",
      "['a', 2, 'b', 1]\n"
     ]
    }
   ],
   "source": [
    "%run testarray.py 'a','b',2,1\n"
   ]
  },
  {
   "cell_type": "code",
   "execution_count": null,
   "metadata": {},
   "outputs": [],
   "source": []
  }
 ],
 "metadata": {
  "kernelspec": {
   "display_name": "Python 3",
   "language": "python",
   "name": "python3"
  },
  "language_info": {
   "codemirror_mode": {
    "name": "ipython",
    "version": 3
   },
   "file_extension": ".py",
   "mimetype": "text/x-python",
   "name": "python",
   "nbconvert_exporter": "python",
   "pygments_lexer": "ipython3",
   "version": "3.6.4"
  }
 },
 "nbformat": 4,
 "nbformat_minor": 2
}
