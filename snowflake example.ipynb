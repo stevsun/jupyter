{
 "cells": [
  {
   "cell_type": "code",
   "execution_count": 4,
   "metadata": {},
   "outputs": [],
   "source": [
    "#importing the libraries\n",
    "#turtle standard graphics library for python\n",
    "from turtle import *\n",
    "\n",
    "#function to create koch snowflake or koch curve\n",
    "def snowflake(lengthSide, levels):\n",
    "    if levels == 0:\n",
    "        forward(lengthSide)\n",
    "        return\n",
    "    lengthSide /= 3.0\n",
    "    snowflake(lengthSide, levels-1)\n",
    "    left(60)\n",
    "    snowflake(lengthSide, levels-1)\n",
    "    right(120)\n",
    "    snowflake(lengthSide, levels-1)\n",
    "    left(60)\n",
    "    snowflake(lengthSide, levels-1)\n",
    "\n",
    "#main function\n",
    "if __name__ == \"__main__\":\n",
    "    speed(0)                    #defining the speed of the turtle\n",
    "    length = 300.0              #\n",
    "    penup()                     #Pull the pen up – no drawing when moving.\n",
    "    #Move the turtle backward by distance, opposite to the direction the turtle is headed.\n",
    "    #Do not change the turtle’s heading.\n",
    "    backward(length/2.0)\n",
    "    pendown()\n",
    "    for i in range(3):\n",
    "         #Pull the pen down – drawing when moving.\n",
    "         snowflake(length, 2)\n",
    "         right(120)\n",
    "    #To control the closing windows of the turtle\n",
    "mainloop()"
   ]
  },
  {
   "cell_type": "code",
   "execution_count": null,
   "metadata": {},
   "outputs": [],
   "source": []
  }
 ],
 "metadata": {
  "kernelspec": {
   "display_name": "Python 3",
   "language": "python",
   "name": "python3"
  },
  "language_info": {
   "codemirror_mode": {
    "name": "ipython",
    "version": 3
   },
   "file_extension": ".py",
   "mimetype": "text/x-python",
   "name": "python",
   "nbconvert_exporter": "python",
   "pygments_lexer": "ipython3",
   "version": "3.6.4"
  }
 },
 "nbformat": 4,
 "nbformat_minor": 2
}
