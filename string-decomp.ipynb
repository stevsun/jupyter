{
 "cells": [
  {
   "cell_type": "code",
   "execution_count": 85,
   "metadata": {},
   "outputs": [
    {
     "name": "stdout",
     "output_type": "stream",
     "text": [
      "string length =  12\n",
      "parse_token(), example_str, idx1:  2[3[a]b]qrst 0\n",
      "idx1:  0\n",
      "counter, idx1, idx2=  2 0 1\n",
      "idx1:  2\n",
      "parse_token(), example_str, idx1:  2[3[a]b]qrst 0\n",
      "idx1:  0\n",
      "counter, idx1, idx2=  3 0 1\n",
      "idx1:  2\n",
      "idx1:  3\n",
      "parse_token()2 idx1, decolist:  4 ['a', 'a', 'a']\n",
      "idx1:  6\n",
      "idx1:  7\n",
      "parse_token()2 idx1, decolist:  8 ['a', 'a', 'a', 'b', 'a', 'a', 'a', 'b']\n",
      "decom_str idx1, decostr:  8 ['a', 'a', 'a', 'b', 'a', 'a', 'a', 'b']\n",
      "Looping, idx1, decolist:  8 ['a', 'a', 'a', 'b', 'a', 'a', 'a', 'b']\n",
      "idx1, strlen 8 12\n",
      "Looping, idx1, decolist:  9 ['a', 'a', 'a', 'b', 'a', 'a', 'a', 'b', 'q']\n",
      "idx1, strlen 9 12\n",
      "Looping, idx1, decolist:  10 ['a', 'a', 'a', 'b', 'a', 'a', 'a', 'b', 'q', 'r']\n",
      "idx1, strlen 10 12\n",
      "Looping, idx1, decolist:  11 ['a', 'a', 'a', 'b', 'a', 'a', 'a', 'b', 'q', 'r', 's']\n",
      "idx1, strlen 11 12\n",
      "Looping, idx1, decolist:  12 ['a', 'a', 'a', 'b', 'a', 'a', 'a', 'b', 'q', 'r', 's', 't']\n",
      "idx1, strlen 12 12\n",
      "aaabaaabqrst\n"
     ]
    }
   ],
   "source": [
    "#example_str = \"3[ab]2[rt]gh\"\n",
    "example_str = \"2[3[a]b]qrst\"\n",
    "\n",
    "def parse_token(tempstr, decolist):\n",
    "    # parse the compressed text\n",
    "    strlen = len(tempstr)\n",
    "    tempbuf=[]\n",
    "    counter=0\n",
    "    idx1=0\n",
    "    first_cntr=False\n",
    "    \n",
    "    print(\"parse_token(), example_str, idx1: \", example_str, idx1)\n",
    "    \n",
    "    #loop through example_str to check each char\n",
    "    while idx1 <= strlen:\n",
    "        print(\"idx1: \", idx1)\n",
    "        #if it is a numeric char, get the repetitive count\n",
    "        if tempstr[idx1].isdigit():\n",
    "            #if recursive compressed text, call parse_token() again\n",
    "            if first_cntr == False:\n",
    "                first_cntr = True\n",
    "                idx2 = tempstr.find('[')\n",
    "                counter = int(tempstr[idx1:idx2])\n",
    "                print(\"counter, idx1, idx2= \", counter, idx1, idx2)\n",
    "                idx1 = idx2+1\n",
    "                continue\n",
    "            else:\n",
    "                tempstr2 = tempstr[idx1:]\n",
    "                idx1 += parse_token(tempstr2, tempbuf)\n",
    "                continue\n",
    "        elif tempstr[idx1].isalpha():\n",
    "            tempbuf += tempstr[idx1]\n",
    "            idx1 += 1\n",
    "            continue\n",
    "        elif tempstr[idx1] == ']':\n",
    "            decolist += tempbuf*counter\n",
    "            idx1 +=1\n",
    "            print(\"parse_token()2 idx1, decolist: \", idx1, decolist)\n",
    "            return idx1\n",
    "        continue\n",
    "\n",
    "def decom_str(example_str, decolist):\n",
    "    idx1=0;\n",
    "    strlen = len(example_str)\n",
    "    \n",
    "    print(\"string length = \", strlen)\n",
    "    \n",
    "    #loop through every char in the string\n",
    "    while idx1 < strlen:\n",
    "        \n",
    "        #if find char outside of [], append it to the decom string and continue\n",
    "        if example_str[idx1].isalpha():\n",
    "            decolist += example_str[idx1]\n",
    "            idx1 += 1\n",
    "\n",
    "        #if find numeric char, call routine to process the compressed text\n",
    "        elif example_str[idx1].isdigit():\n",
    "            templist = example_str[idx1:]\n",
    "            idx2 = parse_token(templist, decolist)\n",
    "            idx1 += idx2\n",
    "            print (\"decom_str idx1, decostr: \", idx1, decolist)\n",
    "        \n",
    "        print(\"Looping, idx1, decolist: \", idx1, decolist)\n",
    "        print(\"idx1, strlen\", idx1, strlen)\n",
    "        continue\n",
    "            \n",
    "        \n",
    "if __name__ == \"__main__\":\n",
    "    decolist = []\n",
    "    decom_str(example_str, decolist)\n",
    "    result = ''.join(decolist)\n",
    "    print(result)"
   ]
  },
  {
   "cell_type": "code",
   "execution_count": 22,
   "metadata": {},
   "outputs": [
    {
     "name": "stdout",
     "output_type": "stream",
     "text": [
      "it is a number:  3\n",
      "it is a symbol: [\n",
      "it is a char:  a\n",
      "it is a char:  s\n",
      "it is a char:  d\n",
      "it is a symbol: ]\n",
      "it is a number:  2\n",
      "it is a symbol: [\n",
      "it is a number:  3\n",
      "it is a symbol: [\n",
      "it is a char:  r\n",
      "it is a char:  t\n",
      "it is a symbol: ]\n",
      "it is a char:  u\n",
      "it is a symbol: ]\n",
      "it is a char:  k\n",
      "it is a char:  g\n"
     ]
    }
   ],
   "source": [
    "example_str = \"3[asd]2[3[rt]u]kg\"\n",
    "\n",
    "idx1 = 0\n",
    "strlen = len(example_str)\n",
    "while True:\n",
    "    if example_str[idx1].isalpha():\n",
    "        print (\"it is a char: \", example_str[idx1])\n",
    "    elif example_str[idx1].isdigit():\n",
    "        print (\"it is a number: \", example_str[idx1])\n",
    "    else:\n",
    "        print (\"it is a symbol:\", example_str[idx1])\n",
    "\n",
    "    idx1 += 1\n",
    "    if idx1 >= strlen:\n",
    "        break\n",
    "    "
   ]
  },
  {
   "cell_type": "code",
   "execution_count": 44,
   "metadata": {},
   "outputs": [
    {
     "name": "stdout",
     "output_type": "stream",
     "text": [
      "['hi', 'you', 'man']\n",
      "man\n"
     ]
    }
   ],
   "source": [
    "strlist = []\n",
    "strlist.append(\"hi\")\n",
    "strlist.append(\"you\")\n",
    "strlist.append(\"man\")\n",
    "print(strlist)\n",
    "print(strlist.pop())"
   ]
  },
  {
   "cell_type": "code",
   "execution_count": null,
   "metadata": {},
   "outputs": [],
   "source": []
  }
 ],
 "metadata": {
  "kernelspec": {
   "display_name": "Python 3",
   "language": "python",
   "name": "python3"
  },
  "language_info": {
   "codemirror_mode": {
    "name": "ipython",
    "version": 3
   },
   "file_extension": ".py",
   "mimetype": "text/x-python",
   "name": "python",
   "nbconvert_exporter": "python",
   "pygments_lexer": "ipython3",
   "version": "3.6.4"
  }
 },
 "nbformat": 4,
 "nbformat_minor": 2
}
